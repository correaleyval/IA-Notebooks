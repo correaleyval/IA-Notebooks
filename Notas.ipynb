{
 "cells": [
  {
   "cell_type": "markdown",
   "metadata": {},
   "source": [
    "### Estudio:\n",
    "\n",
    "* Métodos de búsqueda y optimización.\n",
    "* Técnicas de extracción de información de bases de datos que contengan información semántica, como por ejemplo web de noticias o conversaciones entre diversos miembros de una red social.\n",
    "* Técnicas de caracterización de datos.\n",
    "    - Técnicas basadas en descomposición.\n",
    "* Técnicas de extracción de características.\n",
    "* Métodos de visualización de datos multidimensionales.\n",
    "* Métodos de clasificación y reconocimiento de patrones.\n",
    "* Técnicas avanzadas de inteligencia evolutiva, algoritmos que utlizan reglas heurísticas inspiradas en el funcionamiento evolutivo de los sistemas biológicos."
   ]
  },
  {
   "cell_type": "markdown",
   "metadata": {},
   "source": [
    "### Notas:\n",
    "\n",
    "- ¿Es físicamente posible que una máquina presente capacidad de abstracción similar a la inteligencia humana?\n",
    "\n",
    "- El cerebro humano es el sistema de reconocimiento de patrones más complejo y eficiente que conocemos.\n",
    "\n",
    "- Cuanto más veces se active un cierto canal de activación neuronal, más fácil resultará activarlo en el futuro e integrarlo a nuevos procesos cognitivos de mayor complejidad.\n",
    "\n",
    "- Hoy más que nunca la información está codificada en masas ingentes de datos, de forma que en muchos ámbitos se hace necesario extraer la información relevante de grandes conjuntos de datos antes de proceder a un análisis detallado.\n",
    "\n",
    "- Hoy en día el objetivo principal de la inteligencia artificial es el tratamiento y análisis de datos."
   ]
  }
 ],
 "metadata": {
  "kernelspec": {
   "display_name": "Python 3",
   "language": "python",
   "name": "python3"
  },
  "language_info": {
   "codemirror_mode": {
    "name": "ipython",
    "version": 3
   },
   "file_extension": ".py",
   "mimetype": "text/x-python",
   "name": "python",
   "nbconvert_exporter": "python",
   "pygments_lexer": "ipython3",
   "version": "3.8.5"
  }
 },
 "nbformat": 4,
 "nbformat_minor": 4
}
